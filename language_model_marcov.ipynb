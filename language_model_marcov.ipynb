{
 "cells": [
  {
   "cell_type": "markdown",
   "id": "48e28bc5-72da-4095-b455-31422dca9638",
   "metadata": {},
   "source": [
    "## making of a language model which will generate poem of four line\n",
    "#### a second order marcov model will be used to store the probability of occurrence of three consecutive words/tokens\n",
    "#### a first order marcov model will be used to store the probability of occurrence of each first two tokens in entire dataset\n",
    "#### a normal one dim list to store prob of occurrence of first token of each line of entire dataset\n"
   ]
  },
  {
   "cell_type": "code",
   "execution_count": 1,
   "id": "0ca829dd-3d41-4676-95f3-50a62090b5aa",
   "metadata": {
    "tags": []
   },
   "outputs": [],
   "source": [
    "import numpy as np\n",
    "import pandas as pd\n",
    "import string\n"
   ]
  },
  {
   "cell_type": "code",
   "execution_count": 2,
   "id": "d4432d96-6651-43b8-a3cc-59b663300116",
   "metadata": {
    "tags": []
   },
   "outputs": [],
   "source": [
    "np.random.seed(1234)"
   ]
  },
  {
   "cell_type": "code",
   "execution_count": 3,
   "id": "79e4df90-d18f-40d0-8bac-dc9fedddca0d",
   "metadata": {
    "tags": []
   },
   "outputs": [],
   "source": [
    "#  instead of storing probability of occurrence of three and two consecutive token in a matrix we will store in a dictionary\n",
    "initial={}\n",
    "firstOrder={}\n",
    "secondOrder={}\n"
   ]
  },
  {
   "cell_type": "code",
   "execution_count": 4,
   "id": "40b63c34-9120-4d1a-bae8-ea1cee3456de",
   "metadata": {
    "tags": []
   },
   "outputs": [],
   "source": [
    "# remove punctuation of each sentence\n",
    "def remove_puncuation(s):\n",
    "    return s.translate(str.maketrans('','',string.punctuation))"
   ]
  },
  {
   "cell_type": "code",
   "execution_count": 5,
   "id": "c97eea5b-5556-4720-aec4-596446860df5",
   "metadata": {
    "tags": []
   },
   "outputs": [],
   "source": [
    "# this funtion will put value V in corresponding key K  in specific dictionary D \n",
    "# this dictionary can be firstorder and secondOrder \n",
    "# K key can a single token or tupple of two token\n",
    "def addToDict(D,K,V):\n",
    "    if K not in D:\n",
    "        D[K]=[]\n",
    "    D[K].append(V)\n",
    "    return"
   ]
  },
  {
   "cell_type": "code",
   "execution_count": 6,
   "id": "04bf4cd6-6b06-492d-a86f-edf4ef93de68",
   "metadata": {
    "tags": []
   },
   "outputs": [],
   "source": [
    "'''\n",
    "this loop will extract the all robert frost poem from robert_frost.txt file\n",
    "all the capital letter converted into small letter\n",
    "initial_list:{} will contain count of occurrence of each first word of sentences\n",
    "\n",
    "firstOrder:{} will contains  occurrence of each first two word of sentences. if first word is same then next word stored under \n",
    "                the same key which is the first word\n",
    "\n",
    "secondOrder:{} will contains  occurrence of each three consecutive of words. if the first two word is same then all the third\n",
    "                word all the third words will stored in a list \n",
    "            \n",
    "''' \n",
    "for line in open('robert_frost.txt'):\n",
    "    tokens=remove_puncuation(line.rstrip().lower()).split()\n",
    "    length_token=len(tokens)\n",
    "    for i in range(length_token):\n",
    "        token_i=tokens[i]\n",
    "        if i==0:\n",
    "            initial[token_i]=initial.get(token_i,0)+1\n",
    "        else:\n",
    "            token_i_1=tokens[i-1]\n",
    "            if i==length_token-1:\n",
    "                addToDict(secondOrder,(token_i_1,token_i),'END')\n",
    "            if i==1:\n",
    "                addToDict(firstOrder,token_i_1,token_i)\n",
    "            else:\n",
    "                \n",
    "                token_i_2=tokens[i-2]\n",
    "                addToDict(secondOrder,(token_i_2,token_i_1),token_i)\n",
    "    \n",
    "\n",
    "\n"
   ]
  },
  {
   "cell_type": "code",
   "execution_count": 7,
   "id": "11a5ff5a-355a-47bd-adf4-5723261b0a4e",
   "metadata": {
    "tags": []
   },
   "outputs": [],
   "source": [
    "# normalizing the distribution initial_prob\n",
    "initial_prob={}\n",
    "initial_total=sum(initial.values())\n",
    "for k,v in initial.items():\n",
    "    initial_prob[k]=initial[k]/initial_total\n"
   ]
  },
  {
   "cell_type": "code",
   "execution_count": 8,
   "id": "a22541df-b1b0-4adf-a2fe-b0629f63dd63",
   "metadata": {
    "tags": []
   },
   "outputs": [],
   "source": [
    "'''\n",
    "in this fun a list of second word in first order and list of third word in second order dictionary will  be given \n",
    "as input. as a output a dictinary will be returned where each word is the key and values would be  corresponding count of\n",
    "total occurance of that word/key in that input list \n",
    "'''\n",
    "def listToPredict(toklist):\n",
    "    pdict={}\n",
    "    lengthoflist=len(toklist)\n",
    "    for k in toklist:\n",
    "        pdict[k]=pdict.get(k,0)+1\n",
    "    for k,v in pdict.items():\n",
    "        pdict[k]=v/lengthoflist\n",
    "    return pdict\n",
    "            "
   ]
  },
  {
   "cell_type": "code",
   "execution_count": 9,
   "id": "2a08c153-e9a5-45f7-846d-72698fcb78dd",
   "metadata": {
    "tags": []
   },
   "outputs": [],
   "source": [
    "firstOrder_prob={}\n",
    "for key, listvalue in firstOrder.items():\n",
    "    firstOrder_prob[key]=listToPredict(listvalue)\n"
   ]
  },
  {
   "cell_type": "code",
   "execution_count": 10,
   "id": "343fc716-95ed-4a6d-ae3b-642cb9e91639",
   "metadata": {
    "tags": []
   },
   "outputs": [],
   "source": [
    "secondOrder_prob={}\n",
    "for key , listvalue in secondOrder.items():\n",
    "    secondOrder_prob[key]=listToPredict(listvalue)"
   ]
  },
  {
   "cell_type": "code",
   "execution_count": 11,
   "id": "2f9720a3-0c01-46e2-95b6-ffd5051820d4",
   "metadata": {
    "tags": []
   },
   "outputs": [],
   "source": [
    "''' \n",
    "in this funtion a diction will be given as input \n",
    "a radom value generator will generate a rodom value between 0 to 1 and on the basis that random value \n",
    "and probability of each word in list , a word will be selected.\n",
    "this basically help to generate each word in the poem\n",
    "'''\n",
    "def sample_word(D):\n",
    "    p0=np.random.random()\n",
    "    cumulative=0\n",
    "    for t,p in D.items():\n",
    "        cumulative+=p\n",
    "        if p0<cumulative:\n",
    "            return t\n",
    "    assert(False)\n",
    "    "
   ]
  },
  {
   "cell_type": "code",
   "execution_count": 19,
   "id": "750832a1-b9d3-4c22-b4b5-7927232bf90a",
   "metadata": {
    "tags": []
   },
   "outputs": [],
   "source": [
    "'''\n",
    "this funtion contains a loop which will go for four times \n",
    "in each loop first word be selected randomly  using initial_list[] \n",
    "on the basis of first word second word will be selected  using firstOrder{}\n",
    "and after that using secondOrder{} each third word of the selected \n",
    "'''\n",
    "def generate_poem():\n",
    "    for i in range(4):\n",
    "        sentence=[]\n",
    "        \n",
    "        w0 = sample_word(initial_prob)\n",
    "        sentence.append(w0)\n",
    "        w1= sample_word(firstOrder_prob[w0])\n",
    "        sentence.append(w1)\n",
    "        \n",
    "        while(True):\n",
    "            # print(secondOrder_prob[(w0,w1)])\n",
    "            w2=sample_word(secondOrder_prob[(w0,w1)])\n",
    "            if w2==\"END\":\n",
    "                break\n",
    "            sentence.append(w2)\n",
    "            w0=w1\n",
    "            w1=w2\n",
    "        print(' '.join(sentence))"
   ]
  },
  {
   "cell_type": "code",
   "execution_count": 26,
   "id": "9b1f51ef-32d8-4fcd-aba3-cacd2f8283a9",
   "metadata": {
    "tags": []
   },
   "outputs": [
    {
     "name": "stdout",
     "output_type": "stream",
     "text": [
      "and wheres john\n",
      "or like the poetesss heart of one that didnt thrive\n",
      "but where this old wall burns a sunny cheek\n",
      "and swollen them\n"
     ]
    }
   ],
   "source": [
    "generate_poem()"
   ]
  },
  {
   "cell_type": "code",
   "execution_count": null,
   "id": "ec948b81-6023-4f00-a7a8-39821c809821",
   "metadata": {},
   "outputs": [],
   "source": []
  },
  {
   "cell_type": "code",
   "execution_count": null,
   "id": "ec4cb1b5-609d-4197-a0c8-484d213f623c",
   "metadata": {},
   "outputs": [],
   "source": []
  }
 ],
 "metadata": {
  "kernelspec": {
   "display_name": "Python 3 (ipykernel)",
   "language": "python",
   "name": "python3"
  },
  "language_info": {
   "codemirror_mode": {
    "name": "ipython",
    "version": 3
   },
   "file_extension": ".py",
   "mimetype": "text/x-python",
   "name": "python",
   "nbconvert_exporter": "python",
   "pygments_lexer": "ipython3",
   "version": "3.11.5"
  }
 },
 "nbformat": 4,
 "nbformat_minor": 5
}
